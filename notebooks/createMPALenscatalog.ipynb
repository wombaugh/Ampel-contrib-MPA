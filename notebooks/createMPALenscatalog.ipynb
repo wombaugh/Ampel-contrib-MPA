{
 "cells": [
  {
   "cell_type": "code",
   "execution_count": null,
   "metadata": {},
   "outputs": [],
   "source": [
    "import numpy as np\n",
    "import matplotlib.pyplot as plt\n",
    "import pandas as pd\n",
    "import pickle\n",
    "from extcats import CatalogPusher\n",
    "import pymongo, os, subprocess"
   ]
  },
  {
   "cell_type": "code",
   "execution_count": null,
   "metadata": {},
   "outputs": [],
   "source": [
    "# Load pickle file we got from Raol\n",
    "pfile = '/home/jnordin/data/catalogs/MPA_lensed/masterlens_match_ampel.pkl'\n",
    "df = pd.read_pickle(pfile)"
   ]
  },
  {
   "cell_type": "code",
   "execution_count": null,
   "metadata": {},
   "outputs": [],
   "source": [
    "ar = df[ ['ra','dec'] ].hist()"
   ]
  },
  {
   "cell_type": "code",
   "execution_count": null,
   "metadata": {},
   "outputs": [],
   "source": [
    "list(df.columns)"
   ]
  },
  {
   "cell_type": "code",
   "execution_count": null,
   "metadata": {},
   "outputs": [],
   "source": []
  },
  {
   "cell_type": "code",
   "execution_count": null,
   "metadata": {},
   "outputs": [],
   "source": []
  },
  {
   "cell_type": "code",
   "execution_count": null,
   "metadata": {},
   "outputs": [],
   "source": [
    "# build the pusher object and point it to the raw files.\n",
    "mqp = CatalogPusher.CatalogPusher(\n",
    "    catalog_name = 'MPAlensing',             # short name of the catalog\n",
    "    data_source = '/home/jnordin/data/catalogs/MPA_lensed', # where to find the data\n",
    "    file_type = 'pkl'\n",
    "    )"
   ]
  },
  {
   "cell_type": "code",
   "execution_count": null,
   "metadata": {},
   "outputs": [],
   "source": [
    "# See if we can use the information as above\n",
    "mqp.assign_file_reader(\n",
    "        reader_func = pd.read_pickle,         # callable to use to read the raw_files. \n",
    "        read_chunks = False)                  # weather or not the reader process each file into smaller chunks."
   ]
  },
  {
   "cell_type": "code",
   "execution_count": null,
   "metadata": {},
   "outputs": [],
   "source": [
    "# now we have to define a modifier function that acts on the single documents\n",
    "# (dictionaries) and format them in the way they have to appear in the database.\n",
    "# in this case we format coordinates in the geoJSON type (this enables mongo to\n",
    "# support queries in spherical cooridnates), and we assign to each source its\n",
    "# healpix index on a grid of order 16, corresponding to ~3\" resolution.\n",
    "from healpy import ang2pix\n",
    "def mqc_modifier(srcdict):\n",
    "    \n",
    "    # Make sure we have no duplicate columns\n",
    "    srcdict = {'system_name':srcdict['system_name'],'ra':srcdict['ra'],'dec':srcdict['dec']}\n",
    "    \n",
    "    # format coordinates into geoJSON type (commented version uses 'legacy' pair):\n",
    "    # unfortunately mongo needs the RA to be folded into -180, +180\n",
    "    ra=srcdict['ra'] if srcdict['ra']<180. else srcdict['ra']-360.  \n",
    "    srcdict['pos']={\n",
    "            'type': 'Point', \n",
    "            'coordinates': [ra, srcdict['dec']]\n",
    "                    }\n",
    "    #srcdict['pos']=[srcdict['ra'], srcdict['dec']] # This is the legacy coordinate format\n",
    "    \n",
    "    # add healpix index\n",
    "    srcdict['hpxid_16']=int(\n",
    "        ang2pix(2**16, srcdict['ra'], srcdict['dec'], lonlat = True, nest = True))\n",
    "    \n",
    "    return srcdict\n",
    "\n",
    "mqp.assign_dict_modifier(mqc_modifier)"
   ]
  },
  {
   "cell_type": "code",
   "execution_count": null,
   "metadata": {},
   "outputs": [],
   "source": [
    "# fill in the database, creting indexes on the position and healpix ID.\n",
    "import pymongo\n",
    "mqp.push_to_db(\n",
    "    coll_name = 'srcs', \n",
    "    index_on = ['hpxid_16', [('pos', pymongo.GEOSPHERE)] ] ,\n",
    "    index_args = [{}, {}], # specify arguments for the index creation\n",
    "    overwrite_coll = False, \n",
    "    append_to_coll = False)"
   ]
  },
  {
   "cell_type": "code",
   "execution_count": null,
   "metadata": {},
   "outputs": [],
   "source": []
  },
  {
   "cell_type": "code",
   "execution_count": null,
   "metadata": {},
   "outputs": [],
   "source": [
    "## Running the test scripts\n",
    "# define the funtion to test coordinate based queries:\n",
    "import numpy as np\n",
    "from healpy import ang2pix, get_all_neighbours\n",
    "from astropy.table import Table\n",
    "from astropy.coordinates import SkyCoord\n",
    "from math import radians\n",
    "# define your search radius\n",
    "rs_arcsec = 100.\n",
    "\n",
    "def test_query_healpix(ra, dec, coll):\n",
    "    \"\"\"query collection for the closest point within \n",
    "    rs_arcsec of target ra, dec. It uses healpix ID\n",
    "    to perform the search.\n",
    "    \n",
    "    The results as returned as an astropy Table. \"\"\"\n",
    "    \n",
    "    # find the index of the target pixel and its neighbours \n",
    "    target_pix = int( ang2pix(2**16, ra, dec, nest = True, lonlat = True) )\n",
    "    neighbs = get_all_neighbours(2*16, ra, dec, nest = True, lonlat = True)\n",
    "\n",
    "    # remove non-existing neigbours (in case of E/W/N/S) and add center pixel\n",
    "    pix_group = [int(pix_id) for pix_id in neighbs if pix_id != -1] + [target_pix]\n",
    "    \n",
    "    # query the database for sources in these pixels\n",
    "    qfilter = { 'hpxid_16': { '$in': pix_group } }\n",
    "    qresults = [o for o in coll.find(qfilter)]\n",
    "    if len(qresults)==0:\n",
    "        return None\n",
    "    \n",
    "    # then use astropy to find the closest match\n",
    "    tab = Table(qresults)\n",
    "    target = SkyCoord(ra, dec, unit = 'deg')\n",
    "    matches_pos = SkyCoord(tab['ra'], tab['dec'], unit = 'deg')\n",
    "    d2t = target.separation(matches_pos).arcsecond\n",
    "    match_id = np.argmin(d2t)\n",
    "\n",
    "    # if it's too far away don't use it\n",
    "    if d2t[match_id]>rs_arcsec:\n",
    "        return None\n",
    "    return tab[match_id]\n",
    "\n",
    "\n",
    "def test_query_2dsphere(ra, dec, coll):\n",
    "    \"\"\"query collection for the closest point within \n",
    "    rs_arcsec of target ra, dec. It uses mondod spherical\n",
    "    geometry queries.\n",
    "    \n",
    "    The results as returned as an astropy Table. \"\"\"\n",
    "    \n",
    "    \n",
    "    # fold the RA between -180 and 180.\n",
    "    if ra > 180:\n",
    "        ra = ra - 360.\n",
    "    \n",
    "    # query and return\n",
    "    geowithin={\"$geoWithin\": { \"$centerSphere\": [[ra, dec], radians(rs_arcsec/3600.)]}}\n",
    "    qresults = [o for o in coll.find({\"pos\": geowithin})]\n",
    "    if len(qresults)==0:\n",
    "        return None\n",
    "    \n",
    "    # then use astropy to find the closest match\n",
    "    tab = Table(qresults)\n",
    "    target = SkyCoord(ra, dec, unit = 'deg')\n",
    "    matches_pos = SkyCoord(tab['ra'], tab['dec'], unit = 'deg')\n",
    "    d2t = target.separation(matches_pos).arcsecond\n",
    "    match_id = np.argmin(d2t)\n",
    "\n",
    "    # if it's too far away don't use it\n",
    "    if d2t[match_id]>rs_arcsec:\n",
    "        return None\n",
    "    return tab[match_id]\n",
    "\n",
    "# run the test. Here we compare queries based on the \n",
    "# healpix index with those based on the 2dsphere mongod support.\n",
    "mqp.run_test(test_query_healpix, npoints = 10000)\n",
    "mqp.run_test(test_query_2dsphere, npoints = 10000)"
   ]
  },
  {
   "cell_type": "code",
   "execution_count": null,
   "metadata": {},
   "outputs": [],
   "source": [
    "## Adding metadata\n",
    "mqp.healpix_meta(healpix_id_key = 'hpxid_16', order = 16, is_indexed = True, nest = True)\n",
    "mqp.sphere2d_meta(sphere2d_key = 'pos', is_indexed = True, pos_format = 'geoJSON')\n",
    "mqp.science_meta(\n",
    "    contact =  'R. Canameras', \n",
    "    email = 'rcanameras@MPA-Garching.MPG.DE', \n",
    "    description = 'Private list contributed by MPA',\n",
    "    reference = 'File masterlens_match_ampel.pkl')"
   ]
  },
  {
   "cell_type": "code",
   "execution_count": null,
   "metadata": {},
   "outputs": [],
   "source": [
    "# Also test searching\n",
    "from extcats import CatalogQuery\n",
    "\n",
    "# initialize the CatalogQuery object pointing it to an existsing database\n",
    "mqc_query = CatalogQuery.CatalogQuery(\n",
    "        cat_name = 'MPAlensing',           # name of the database\n",
    "        coll_name = 'srcs',               # name of the collection with the sources\n",
    "        ra_key = 'ra', dec_key = 'dec',   # name of catalog fields for the coordinates\n",
    "        dbclient = None)\n",
    "\n",
    "\n",
    "# specify target position (same format as the 'ra_key' and \n",
    "# 'dec_key specified at initilization) and serach radius\n",
    "target_ra, target_dec, rs = 157.365, 61.251 , 100."
   ]
  },
  {
   "cell_type": "code",
   "execution_count": null,
   "metadata": {},
   "outputs": [],
   "source": [
    "# the 'raw' method does not require any pre-formatting of the catalog.\n",
    "# It first selects points within a box of radius 'box_scale' times larger than the\n",
    "# search radius using $gte and $lte operators, then uses the $where expression\n",
    "# to compute the angular distance of the sources in the box from the target.\n",
    "out_raw = mqc_query.findwithin(target_ra, target_dec, rs, method = 'raw', box_scale = 2.5)\n",
    "if not out_raw is None:\n",
    "    print (\"%d sources found around target position using the 'raw' method.\"%len(out_raw))\n",
    "\n",
    "# the '2dsphere' method uses instead the use mongodb searches in \n",
    "# spherical geometry using \"$geoWithin\" and \"$centerSphere\" operators.\n",
    "# it requires the catalog documents to have been assigned a geoJSON \n",
    "# or 'legacy pair' field of type 'Point' (see insert_example notebook).\n",
    "out_2dsphere = mqc_query.findwithin(target_ra, target_dec, rs, method = '2dsphere')\n",
    "if not out_2dsphere is None:\n",
    "    print (\"%d sources found around target position using the '2dsphere' method.\"%len(out_2dsphere))\n",
    "    print(out_2dsphere['system_name'])\n",
    "\n",
    "\n",
    "# finally, the healpix method can be used to speed up queries using a \n",
    "# spatial prepartinioning of the data based on a HEALPix grid. In this \n",
    "# case, the sources in the catalog should be assigned a field containing\n",
    "# the ID of the healpix that contains it.\n",
    "out_healpix = mqc_query.findwithin(target_ra, target_dec, rs, method = 'healpix')\n",
    "if not out_healpix is None:\n",
    "    print (\"%d sources found around target position using the 'healpix' method.\"%len(out_healpix))\n",
    "    print(out_healpix['system_name'])\n",
    "    \n",
    "out_healpix_square = mqc_query.findwithin(target_ra, target_dec, rs, method = 'healpix', circular = False)\n",
    "if not out_healpix_square is None:\n",
    "    print (\"%d sources found around target position using the 'healpix' (square) method.\"%len(out_healpix_square))"
   ]
  },
  {
   "cell_type": "code",
   "execution_count": null,
   "metadata": {},
   "outputs": [],
   "source": [
    "# ======================================== #\n",
    "#    make a plot with the query results    #\n",
    "# ======================================== #\n",
    "%matplotlib notebook\n",
    "import matplotlib.pyplot as plt\n",
    "\n",
    "# get a random sample from the catalog\n",
    "cat_pos=[[o['ra'], o['dec']] for o in \n",
    "         mqc_query.src_coll.aggregate([{ '$sample': { 'size': 5000 }}])]\n",
    "cat_ra, cat_dec = zip(*cat_pos)\n",
    "\n",
    "\n",
    "fig=plt.figure()\n",
    "ax=fig.add_subplot(111)#, projection=\"aitoff\")\n",
    "\n",
    "ax.scatter(cat_ra, cat_dec, label=\"random sample\", c=\"k\", s=50, marker=\"o\", zorder=1)\n",
    "ax.scatter(out_raw['ra'], out_raw['dec'], label=\"matches (RAW)\", c=\"r\", s=100, marker=\"+\")\n",
    "ax.scatter(out_2dsphere['ra'], out_2dsphere['dec'], label=\"matches (2D sphere)\", c=\"b\", s=100, marker=\"x\")\n",
    "ax.scatter(out_healpix['ra'], out_healpix['dec'], label=\"matches (HEALPix)\", c=\"m\", s=100, marker=\"v\")\n",
    "ax.scatter(\n",
    "out_healpix_square['ra'], out_healpix_square['dec'], label=\"matches (HEALPix square)\", c=\"g\", s=50, marker=\"v\")\n",
    "\n",
    "ax.scatter(target_ra, target_dec, label='target', s=200, c='y', marker='*', zorder=0)\n",
    "ax.set_xlim(target_ra-2, target_ra+2)\n",
    "ax.set_ylim(target_dec-3, target_dec+3)\n",
    "ax.legend(loc='best')\n",
    "fig.show()"
   ]
  },
  {
   "cell_type": "code",
   "execution_count": null,
   "metadata": {},
   "outputs": [],
   "source": []
  },
  {
   "cell_type": "markdown",
   "metadata": {},
   "source": [
    "Final step is to dump catalog into the prefered format for AMPEL ingestion"
   ]
  },
  {
   "cell_type": "code",
   "execution_count": null,
   "metadata": {},
   "outputs": [],
   "source": [
    "# Where to store, limit for saving only small subset, name of final catalog\n",
    "dumpto = \"/home/jnordin/data/catalogs/MPA_lensed/\"\n",
    "limit = None    # Small dataset for testing\n",
    "cat2dump = ['MPAlensing']"
   ]
  },
  {
   "cell_type": "code",
   "execution_count": null,
   "metadata": {},
   "outputs": [],
   "source": [
    "# connect to database\n",
    "c = pymongo.MongoClient()"
   ]
  },
  {
   "cell_type": "code",
   "execution_count": null,
   "metadata": {},
   "outputs": [],
   "source": [
    "def mongodump(dbname, where, limit=None):\n",
    "    '''\n",
    "    Dump extcat catalog from live mongod session\n",
    "    '''\n",
    "    \n",
    "    cmd=\"mongodump --db %s --out %s\"%(dbname, where)\n",
    "    \n",
    "    if limit is None:\n",
    "        print (subprocess.check_output(cmd,stderr=subprocess.STDOUT,shell=True))\n",
    "        pass\n",
    "    else:\n",
    "        print (\"limiting out to the first %d sources\"%limit)\n",
    "        \n",
    "        # figure out Id of limit + 1 source\n",
    "        coll = c[dbname]['srcs']\n",
    "        last_id = list(coll.find().sort('_id', pymongo.ASCENDING).limit(limit))[-1]['_id']\n",
    "        print (\"last ID:\", last_id, type(last_id))\n",
    "        \n",
    "        # mongodump meta collection\n",
    "        cmd=\"mongodump --db %s --collection meta --out %s\"%(dbname, where)\n",
    "        print (subprocess.check_output(cmd,stderr=subprocess.STDOUT,shell=True))\n",
    "        \n",
    "        # and the small source collection\n",
    "        cmd=(\"mongodump --db %s --collection srcs --query '{_id:{$lte:ObjectId(%s)}}' --out %s\"%\n",
    "            (dbname, '\"%s\"'%str(last_id), where))\n",
    "        print (subprocess.check_output(cmd,stderr=subprocess.STDOUT,shell=True))"
   ]
  },
  {
   "cell_type": "code",
   "execution_count": null,
   "metadata": {},
   "outputs": [],
   "source": [
    "# dump them all\n",
    "for dcn in c.list_database_names():\n",
    "    if dcn in cat2dump:\n",
    "        print (\"dumping catalog %s to dir %s\"%(dcn, dumpto))\n",
    "        mongodump(dcn, dumpto, limit)"
   ]
  },
  {
   "cell_type": "code",
   "execution_count": null,
   "metadata": {},
   "outputs": [],
   "source": []
  },
  {
   "cell_type": "code",
   "execution_count": null,
   "metadata": {},
   "outputs": [],
   "source": []
  }
 ],
 "metadata": {
  "kernelspec": {
   "display_name": "Python 3",
   "language": "python",
   "name": "python3"
  },
  "language_info": {
   "codemirror_mode": {
    "name": "ipython",
    "version": 3
   },
   "file_extension": ".py",
   "mimetype": "text/x-python",
   "name": "python",
   "nbconvert_exporter": "python",
   "pygments_lexer": "ipython3",
   "version": "3.6.7"
  }
 },
 "nbformat": 4,
 "nbformat_minor": 2
}
